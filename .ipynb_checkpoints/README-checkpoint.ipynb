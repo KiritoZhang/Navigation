{
 "cells": [
  {
   "cell_type": "markdown",
   "metadata": {},
   "source": [
    "# Project 2: Navigation"
   ]
  },
  {
   "cell_type": "markdown",
   "metadata": {},
   "source": [
    "### Project link\n",
    "https://github.com/KiritoZhang/Navigation\n",
    "\n",
    "### Project Details\n",
    "\n",
    "For this project, I will work with the Reacher environment.( https://github.com/Unity-Technologies/ml-agents/blob/master/docs/Learning-Environment-Examples.md#reacher)\n",
    "\n",
    "\n",
    "In this environment, a double-jointed arm can move to target locations. A reward of +0.1 is provided for each step that the agent's hand is in the goal location. Thus, the goal of your agent is to maintain its position at the target location for as many time steps as possible.\n",
    "\n",
    "The observation space consists of 33 variables corresponding to position, rotation, velocity, and angular velocities of the arm. Each action is a vector with four numbers, corresponding to torque applicable to two joints. Every entry in the action vector should be a number between -1 and 1.\n",
    "\n",
    "\n",
    "\n",
    "### Solving the Environment\n",
    "\n",
    "In this project , in order to solve the environment, the agent must get an average score of +13 over 100 consecutive episodes.\n",
    "\n",
    "\n",
    "### Getting Started\n",
    "\n",
    "1. Download the environment from one of the links below.  \n",
    "  - Windows (64-bit): https://s3-us-west-1.amazonaws.com/udacity-drlnd/P1/Banana/Banana_Windows_x86_64.zip\n",
    "    \n",
    "    \n",
    "2. Place the file in the DRLND GitHub repository, in the `p1_Navigation/` folder, and unzip (or decompress) the file. \n",
    "\n",
    "\n",
    "3. Finally, you need to install some libraries via pip.\n",
    "    - unityagents\n",
    "    - collections\n",
    "    - matplotlib\n",
    "    - numpy\n",
    "    - random\n",
    "    - time\n",
    "    - copy\n",
    "    - os\n",
    "    - torch\n",
    "\n",
    "### Instructions\n",
    "\n",
    "I have solved the environmental problem in `Navigation.ipynb`, just need to run the code in order.\n"
   ]
  },
  {
   "cell_type": "code",
   "execution_count": null,
   "metadata": {},
   "outputs": [],
   "source": []
  }
 ],
 "metadata": {
  "kernelspec": {
   "display_name": "Python 3",
   "language": "python",
   "name": "python3"
  },
  "language_info": {
   "codemirror_mode": {
    "name": "ipython",
    "version": 3
   },
   "file_extension": ".py",
   "mimetype": "text/x-python",
   "name": "python",
   "nbconvert_exporter": "python",
   "pygments_lexer": "ipython3",
   "version": "3.6.7"
  }
 },
 "nbformat": 4,
 "nbformat_minor": 2
}
